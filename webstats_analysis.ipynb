{
 "cells": [
  {
   "cell_type": "code",
   "execution_count": 1,
   "metadata": {
    "collapsed": true
   },
   "outputs": [],
   "source": [
    "import os"
   ]
  },
  {
   "cell_type": "code",
   "execution_count": 3,
   "metadata": {},
   "outputs": [
    {
     "data": {
      "text/plain": [
       "u'/Users/harishupadhyay/harish/ml/BuildingMachineLearningSystemsWithPython'"
      ]
     },
     "execution_count": 3,
     "metadata": {},
     "output_type": "execute_result"
    }
   ],
   "source": [
    "pwd"
   ]
  },
  {
   "cell_type": "code",
   "execution_count": 10,
   "metadata": {},
   "outputs": [],
   "source": [
    "import utils"
   ]
  },
  {
   "cell_type": "code",
   "execution_count": 11,
   "metadata": {},
   "outputs": [
    {
     "name": "stdout",
     "output_type": "stream",
     "text": [
      "analyze_webstats.py  gen_webstats.py      utils.pyc\r\n",
      "\u001b[34mcharts\u001b[m\u001b[m/              performance_test.py\r\n",
      "\u001b[34mdata\u001b[m\u001b[m/                utils.py\r\n"
     ]
    }
   ],
   "source": [
    "ls"
   ]
  },
  {
   "cell_type": "code",
   "execution_count": 12,
   "metadata": {},
   "outputs": [
    {
     "name": "stdout",
     "output_type": "stream",
     "text": [
      "[Errno 2] No such file or directory: 'ch01'\n",
      "/Users/harishupadhyay/harish/ml/BuildingMachineLearningSystemsWithPython/ch01\n"
     ]
    }
   ],
   "source": [
    "cd ch01"
   ]
  },
  {
   "cell_type": "code",
   "execution_count": 13,
   "metadata": {},
   "outputs": [
    {
     "data": {
      "text/plain": [
       "u'/Users/harishupadhyay/harish/ml/BuildingMachineLearningSystemsWithPython/ch01'"
      ]
     },
     "execution_count": 13,
     "metadata": {},
     "output_type": "execute_result"
    }
   ],
   "source": [
    "pwd"
   ]
  },
  {
   "cell_type": "code",
   "execution_count": 14,
   "metadata": {
    "collapsed": true
   },
   "outputs": [],
   "source": [
    "from utils import DATA_DIR,CHART_DIR"
   ]
  },
  {
   "cell_type": "code",
   "execution_count": 16,
   "metadata": {},
   "outputs": [],
   "source": [
    "import scipy as sp"
   ]
  },
  {
   "cell_type": "code",
   "execution_count": 17,
   "metadata": {
    "collapsed": true
   },
   "outputs": [],
   "source": [
    "import matplotlib.pyplot as plt "
   ]
  },
  {
   "cell_type": "code",
   "execution_count": 18,
   "metadata": {
    "collapsed": true
   },
   "outputs": [],
   "source": [
    "sp.random.seed(3)"
   ]
  },
  {
   "cell_type": "code",
   "execution_count": 20,
   "metadata": {},
   "outputs": [],
   "source": [
    "data = sp.genfromtxt(os.path.join(DATA_DIR,\"web_traffic.tsv\"),delimiter=\"\\t\")"
   ]
  },
  {
   "cell_type": "code",
   "execution_count": 21,
   "metadata": {},
   "outputs": [
    {
     "name": "stdout",
     "output_type": "stream",
     "text": [
      "[[  1.00000000e+00   2.27200000e+03]\n",
      " [  2.00000000e+00              nan]\n",
      " [  3.00000000e+00   1.38600000e+03]\n",
      " [  4.00000000e+00   1.36500000e+03]\n",
      " [  5.00000000e+00   1.48800000e+03]\n",
      " [  6.00000000e+00   1.33700000e+03]\n",
      " [  7.00000000e+00   1.88300000e+03]\n",
      " [  8.00000000e+00   2.28300000e+03]\n",
      " [  9.00000000e+00   1.33500000e+03]\n",
      " [  1.00000000e+01   1.02500000e+03]]\n"
     ]
    }
   ],
   "source": [
    "print (data[:10])"
   ]
  },
  {
   "cell_type": "code",
   "execution_count": 22,
   "metadata": {},
   "outputs": [
    {
     "name": "stdout",
     "output_type": "stream",
     "text": [
      "(743, 2)\n"
     ]
    }
   ],
   "source": [
    "print (data.shape)"
   ]
  },
  {
   "cell_type": "code",
   "execution_count": 23,
   "metadata": {
    "collapsed": true
   },
   "outputs": [],
   "source": [
    "colors = ['g','k','b','m','r']"
   ]
  },
  {
   "cell_type": "code",
   "execution_count": 24,
   "metadata": {
    "collapsed": true
   },
   "outputs": [],
   "source": [
    "linestyles = ['-','-.','--',':','-']"
   ]
  },
  {
   "cell_type": "code",
   "execution_count": 25,
   "metadata": {
    "collapsed": true
   },
   "outputs": [],
   "source": [
    "x = data[:,0]"
   ]
  },
  {
   "cell_type": "code",
   "execution_count": 26,
   "metadata": {
    "collapsed": true
   },
   "outputs": [],
   "source": [
    "y = data[:,1]"
   ]
  },
  {
   "cell_type": "code",
   "execution_count": 27,
   "metadata": {},
   "outputs": [
    {
     "name": "stdout",
     "output_type": "stream",
     "text": [
      "('Number of invalid entries', 8)\n"
     ]
    }
   ],
   "source": [
    "print(\"Number of invalid entries\",sp.sum(sp.isnan(y)))"
   ]
  },
  {
   "cell_type": "code",
   "execution_count": 28,
   "metadata": {
    "collapsed": true
   },
   "outputs": [],
   "source": [
    "x= x[~sp.isnan(y)]"
   ]
  },
  {
   "cell_type": "code",
   "execution_count": 29,
   "metadata": {
    "collapsed": true
   },
   "outputs": [],
   "source": [
    "y = y[~sp.isnan(y)]"
   ]
  },
  {
   "cell_type": "code",
   "execution_count": 40,
   "metadata": {},
   "outputs": [],
   "source": [
    "def plot_models(x,y,models,fname,mx=None,ymax=None,xmin=None):\n",
    "    '''plot input data'''\n",
    "    plt.figure(num=None,figsize=(8,6))\n",
    "    plt.clf()\n",
    "    plt.scatter(x,y,s=10)\n",
    "    plt.title(\"web traffic over the last month\")\n",
    "    plt.xlabel(\"Time\")\n",
    "    plt.ylabel(\"Hits/hour\")\n",
    "    plt.xticks([w*7*24 for w in range(10)],['week %i'%w for w in range(10)])\n",
    "    if models:\n",
    "        if mx is None:\n",
    "            mx = sp.linspace(0,x[-1],1000)\n",
    "        for model,style, color in zip(models,linestyles,colors):\n",
    "            plt.plot(mx,model(mx),linestyle=style,linewidth=2,c=color)\n",
    "        plt.legend([\"d=%i\"%m.order for m in models],loc=\"upper left\")\n",
    "    plt.autoscale(tight=True)\n",
    "    plt.ylim(ymin=0)\n",
    "    if ymax:\n",
    "        plt.xlim(xmin=xmin)\n",
    "    plt.grid(True,linestyle='-',color='0.75')\n",
    "    plt.savefig(fname)\n",
    "\n",
    "#look at data\n",
    "plot_models(x,y,None , os.path.join(CHART_DIR,\"1400_01_01.png\"))"
   ]
  },
  {
   "cell_type": "code",
   "execution_count": 41,
   "metadata": {
    "collapsed": true
   },
   "outputs": [],
   "source": [
    "# create and plot models\n",
    "fp1, res1, rank1 , sv1, rcondl = sp.polyfit(x,y,1,full=True)"
   ]
  },
  {
   "cell_type": "code",
   "execution_count": 42,
   "metadata": {},
   "outputs": [
    {
     "name": "stdout",
     "output_type": "stream",
     "text": [
      "Model parameters of fp1: [   2.59619213  989.02487106]\n"
     ]
    }
   ],
   "source": [
    "print(\"Model parameters of fp1: %s\"%fp1)"
   ]
  },
  {
   "cell_type": "code",
   "execution_count": 43,
   "metadata": {},
   "outputs": [
    {
     "name": "stdout",
     "output_type": "stream",
     "text": [
      "('Error of the model of fp1:', array([  3.17389767e+08]))\n"
     ]
    }
   ],
   "source": [
    "print(\"Error of the model of fp1:\",res1)"
   ]
  },
  {
   "cell_type": "code",
   "execution_count": 44,
   "metadata": {
    "collapsed": true
   },
   "outputs": [],
   "source": [
    "fp2, res2, rank2 , sv2, rcond2 = sp.polyfit(x,y,2,full=True)"
   ]
  },
  {
   "cell_type": "code",
   "execution_count": 45,
   "metadata": {},
   "outputs": [
    {
     "name": "stdout",
     "output_type": "stream",
     "text": [
      "Model parameters of fp2 : [  1.05322215e-02  -5.26545650e+00   1.97476082e+03]\n"
     ]
    }
   ],
   "source": [
    "print(\"Model parameters of fp2 : %s\"%fp2)"
   ]
  },
  {
   "cell_type": "code",
   "execution_count": 46,
   "metadata": {},
   "outputs": [
    {
     "name": "stdout",
     "output_type": "stream",
     "text": [
      "('Error of models fp2:%s', array([  1.05322215e-02,  -5.26545650e+00,   1.97476082e+03]))\n"
     ]
    }
   ],
   "source": [
    "print(\"Error of models fp2:%s\",fp2)"
   ]
  },
  {
   "cell_type": "code",
   "execution_count": 53,
   "metadata": {},
   "outputs": [],
   "source": [
    "f1 = sp.poly1d(fp1)"
   ]
  },
  {
   "cell_type": "code",
   "execution_count": 54,
   "metadata": {
    "collapsed": true
   },
   "outputs": [],
   "source": [
    "fp2,res2,rank2,sv2,rcond2=sp.polyfit(x,y,2,full=True)"
   ]
  },
  {
   "cell_type": "code",
   "execution_count": 55,
   "metadata": {},
   "outputs": [
    {
     "name": "stdout",
     "output_type": "stream",
     "text": [
      "Model parameters of fp2:[  1.05322215e-02  -5.26545650e+00   1.97476082e+03]\n"
     ]
    }
   ],
   "source": [
    "print(\"Model parameters of fp2:%s\"%fp2)"
   ]
  },
  {
   "cell_type": "code",
   "execution_count": 56,
   "metadata": {},
   "outputs": [
    {
     "name": "stdout",
     "output_type": "stream",
     "text": [
      "('Error of the model of fp2:', array([  1.79983508e+08]))\n"
     ]
    }
   ],
   "source": [
    "print(\"Error of the model of fp2:\",res2)"
   ]
  },
  {
   "cell_type": "code",
   "execution_count": 59,
   "metadata": {
    "collapsed": true
   },
   "outputs": [],
   "source": [
    "f2=sp.poly1d(fp2)\n",
    "f3 =sp.poly1d(sp.polyfit(x,y,3))"
   ]
  },
  {
   "cell_type": "code",
   "execution_count": 60,
   "metadata": {
    "collapsed": true
   },
   "outputs": [],
   "source": [
    "f10=sp.poly1d(sp.polyfit(x,y,10))"
   ]
  },
  {
   "cell_type": "code",
   "execution_count": 61,
   "metadata": {},
   "outputs": [
    {
     "name": "stderr",
     "output_type": "stream",
     "text": [
      "/Users/harishupadhyay/anaconda/lib/python2.7/site-packages/numpy/lib/polynomial.py:583: RuntimeWarning: overflow encountered in multiply\n",
      "  scale = NX.sqrt((lhs*lhs).sum(axis=0))\n",
      "/Users/harishupadhyay/anaconda/lib/python2.7/site-packages/ipykernel_launcher.py:1: RankWarning: Polyfit may be poorly conditioned\n",
      "  \"\"\"Entry point for launching an IPython kernel.\n"
     ]
    }
   ],
   "source": [
    "f100=sp.poly1d(sp.polyfit(x,y,100))"
   ]
  },
  {
   "cell_type": "code",
   "execution_count": 62,
   "metadata": {
    "collapsed": true
   },
   "outputs": [],
   "source": [
    "plot_models(x,y,[f1],os.path.join(CHART_DIR,\"1400_01_02.png\"))"
   ]
  },
  {
   "cell_type": "code",
   "execution_count": 63,
   "metadata": {
    "collapsed": true
   },
   "outputs": [],
   "source": [
    "plot_models(x,y,[f1,f2],os.path.join(CHART_DIR,\"1400_01_03.png\"))"
   ]
  },
  {
   "cell_type": "code",
   "execution_count": 64,
   "metadata": {
    "collapsed": true
   },
   "outputs": [],
   "source": [
    "plot_models(x,y,[f1,f2,f3,f10,f100],os.path.join(CHART_DIR,\"1400_01_04.png\"))"
   ]
  },
  {
   "cell_type": "code",
   "execution_count": 70,
   "metadata": {},
   "outputs": [
    {
     "name": "stdout",
     "output_type": "stream",
     "text": [
      "588\n"
     ]
    }
   ],
   "source": [
    "inflection = int(3.5 * 7* 24)\n",
    "print inflection"
   ]
  },
  {
   "cell_type": "code",
   "execution_count": 71,
   "metadata": {},
   "outputs": [],
   "source": [
    "xa = x[:inflection]"
   ]
  },
  {
   "cell_type": "code",
   "execution_count": 72,
   "metadata": {
    "collapsed": true
   },
   "outputs": [],
   "source": [
    "ya = y[:inflection]"
   ]
  },
  {
   "cell_type": "code",
   "execution_count": 73,
   "metadata": {
    "collapsed": true
   },
   "outputs": [],
   "source": [
    "xb = x[inflection:]"
   ]
  },
  {
   "cell_type": "code",
   "execution_count": 74,
   "metadata": {
    "collapsed": true
   },
   "outputs": [],
   "source": [
    "yb = y [inflection:]"
   ]
  },
  {
   "cell_type": "code",
   "execution_count": 76,
   "metadata": {},
   "outputs": [],
   "source": [
    "fa = sp.poly1d(sp.polyfit(xa,ya,1))"
   ]
  },
  {
   "cell_type": "code",
   "execution_count": 77,
   "metadata": {
    "collapsed": true
   },
   "outputs": [],
   "source": [
    "fb = sp.poly1d(sp.polyfit(xb,yb,1))"
   ]
  },
  {
   "cell_type": "code",
   "execution_count": 78,
   "metadata": {
    "collapsed": true
   },
   "outputs": [],
   "source": [
    "plot_models(x,y,[fa,fb],os.path.join(CHART_DIR,\"1400_01_05.png\"))"
   ]
  },
  {
   "cell_type": "code",
   "execution_count": 79,
   "metadata": {
    "collapsed": true
   },
   "outputs": [],
   "source": [
    "def error(f,x,y):\n",
    "    return sp.sum((f(x)-y)*2)"
   ]
  },
  {
   "cell_type": "code",
   "execution_count": 80,
   "metadata": {},
   "outputs": [
    {
     "name": "stdout",
     "output_type": "stream",
     "text": [
      "Errors for the completed data set:\n",
      "Eroor d=1:-138318.762585\n",
      "Eroor d=2:-1517.439826\n",
      "Eroor d=3:28328.495669\n",
      "Eroor d=10:7857.513589\n",
      "Eroor d=53:1933.099808\n"
     ]
    }
   ],
   "source": [
    "print(\"Errors for the completed data set:\")\n",
    "for f in [f1,f2,f3,f10,f100]:\n",
    "    print(\"Eroor d=%i:%f\"%(f.order,error(f,xb,yb)))"
   ]
  },
  {
   "cell_type": "code",
   "execution_count": 86,
   "metadata": {},
   "outputs": [
    {
     "name": "stdout",
     "output_type": "stream",
     "text": [
      "Error d=1:-138318.762585\n",
      "Error d=2:-1517.439826\n",
      "Error d=3:28328.495669\n",
      "Error d=10:7857.513589\n",
      "Error d=53:1933.099808\n"
     ]
    }
   ],
   "source": [
    "for f in [f1,f2,f3,f10,f100]:\n",
    "    print(\"Error d=%i:%f\"%(f.order,error(f,xb,yb)))"
   ]
  },
  {
   "cell_type": "code",
   "execution_count": 87,
   "metadata": {},
   "outputs": [
    {
     "name": "stdout",
     "output_type": "stream",
     "text": [
      "Error inflection=0.000000\n"
     ]
    }
   ],
   "source": [
    "print(\"Error inflection=%f\"%(error(fa,xa,ya)+error(fb,xb,yb)))"
   ]
  },
  {
   "cell_type": "code",
   "execution_count": 90,
   "metadata": {
    "collapsed": true
   },
   "outputs": [],
   "source": [
    "plot_models(x,y,[f1,f2,f3,f10,f100],os.path.join(CHART_DIR,\"1400_01_06.png\"),\n",
    "           mx=sp.linspace(0*7*24,6*7*24,100),\n",
    "           ymax=10000,xmin=0*7*24)"
   ]
  },
  {
   "cell_type": "code",
   "execution_count": 91,
   "metadata": {},
   "outputs": [
    {
     "name": "stdout",
     "output_type": "stream",
     "text": [
      "Errors for only the time after inflection point\n"
     ]
    }
   ],
   "source": [
    "print(\"Errors for only the time after inflection point\")"
   ]
  },
  {
   "cell_type": "code",
   "execution_count": 97,
   "metadata": {},
   "outputs": [
    {
     "name": "stdout",
     "output_type": "stream",
     "text": [
      "Error d=1:-0.000000\n",
      "Error d=2:-0.000000\n",
      "Error d=3:-0.000000\n",
      "Error d=10:0.004120\n",
      "Error d=53:-2.478516\n"
     ]
    },
    {
     "name": "stderr",
     "output_type": "stream",
     "text": [
      "/Users/harishupadhyay/anaconda/lib/python2.7/site-packages/ipykernel_launcher.py:4: RankWarning: Polyfit may be poorly conditioned\n",
      "  after removing the cwd from sys.path.\n",
      "/Users/harishupadhyay/anaconda/lib/python2.7/site-packages/ipykernel_launcher.py:5: RankWarning: Polyfit may be poorly conditioned\n",
      "  \"\"\"\n"
     ]
    }
   ],
   "source": [
    "fb1 = fb\n",
    "fb2 =sp.poly1d(sp.polyfit(xb,yb,2))\n",
    "fb3 = sp.poly1d(sp.polyfit(xb,yb,3))\n",
    "fb10 = sp.poly1d(sp.polyfit(xb,yb,10))\n",
    "fb100 = sp.poly1d(sp.polyfit(xb,yb,100))\n",
    "for f in [fb1,fb2,fb3,fb10,fb100]:\n",
    "    print(\"Error d=%i:%f\"%(f.order,error(f,xb,yb)))"
   ]
  },
  {
   "cell_type": "code",
   "execution_count": 98,
   "metadata": {},
   "outputs": [],
   "source": [
    "plot_models(x,y,[fb1,fb2,fb3,fb10,fb100],\n",
    "           os.path.join(CHART_DIR,\"1400_01_07.png\"),\n",
    "           mx=sp.linspace(0*7*24,6*7*24,100),\n",
    "           ymax=10000,xmin=0*7*24)"
   ]
  },
  {
   "cell_type": "code",
   "execution_count": 112,
   "metadata": {},
   "outputs": [
    {
     "name": "stdout",
     "output_type": "stream",
     "text": [
      "fbt2(x)=\n",
      "         2\n",
      "0.05155 x - 48.18 x + 1.223e+04\n",
      "fbt2(x)-100,000=\n",
      "         2\n",
      "0.05155 x - 48.18 x - 8.777e+04\n"
     ]
    },
    {
     "name": "stderr",
     "output_type": "stream",
     "text": [
      "/Users/harishupadhyay/anaconda/lib/python2.7/site-packages/ipykernel_launcher.py:11: RankWarning: Polyfit may be poorly conditioned\n",
      "  # This is added back by InteractiveShellApp.init_path()\n",
      "/Users/harishupadhyay/anaconda/lib/python2.7/site-packages/ipykernel_launcher.py:12: RankWarning: Polyfit may be poorly conditioned\n",
      "  if sys.path[0] == '':\n"
     ]
    }
   ],
   "source": [
    "frac = 0.3\n",
    "split_idx = int(frac*len(xb))\n",
    "shuffled = sp.random.permutation(list(range(len(xb))))\n",
    "test = sorted(shuffled[:split_idx])\n",
    "train = sorted(shuffled[split_idx:])\n",
    "fbt1=sp.poly1d(sp.polyfit(xb[train],yb[train],3))\n",
    "fbt2 = sp.poly1d(sp.polyfit(xb[train],yb[train],2))\n",
    "print(\"fbt2(x)=\\n%s\"%fbt2)\n",
    "print(\"fbt2(x)-100,000=\\n%s\"%(fbt2-100000))\n",
    "fbt3=sp.poly1d(sp.polyfit(xb[train],yb[train],3))\n",
    "fbt10=sp.poly1d(sp.polyfit(xb[train],yb[train],10))\n",
    "fbt100 = sp.poly1d(sp.polyfit(xb[train],yb[train],100))"
   ]
  },
  {
   "cell_type": "code",
   "execution_count": 113,
   "metadata": {},
   "outputs": [
    {
     "name": "stdout",
     "output_type": "stream",
     "text": [
      "Test errors for only the time after inflection point\n"
     ]
    }
   ],
   "source": [
    "print(\"Test errors for only the time after inflection point\")"
   ]
  },
  {
   "cell_type": "code",
   "execution_count": 114,
   "metadata": {},
   "outputs": [
    {
     "name": "stdout",
     "output_type": "stream",
     "text": [
      "Error d=3:-5990.308316\n",
      "Error d=2:-5989.075311\n",
      "Error d=3:-5990.308316\n",
      "Error d=10:-9837.516113\n",
      "Error d=53:-9094.468750\n"
     ]
    }
   ],
   "source": [
    "for f in [fbt1,fbt2,fbt3,fbt10,fbt100]:\n",
    "    print(\"Error d=%i:%f\"%(f.order,error(f,xb[test],yb[test])))"
   ]
  },
  {
   "cell_type": "code",
   "execution_count": 116,
   "metadata": {},
   "outputs": [],
   "source": [
    "plot_models(x,y,[fbt1,fbt2,fbt3,fbt10,fbt100],os.path.join(CHART_DIR,\"1400_01_08.png\"),\n",
    "           mx=sp.linspace(0*7*24,6*7*24,100),\n",
    "           ymax=10000,xmin=0*7*24)"
   ]
  },
  {
   "cell_type": "code",
   "execution_count": 118,
   "metadata": {},
   "outputs": [],
   "source": [
    "from scipy.optimize import fsolve"
   ]
  },
  {
   "cell_type": "code",
   "execution_count": 119,
   "metadata": {},
   "outputs": [
    {
     "name": "stdout",
     "output_type": "stream",
     "text": [
      "         2\n",
      "0.05155 x - 48.18 x + 1.223e+04\n"
     ]
    }
   ],
   "source": [
    "print(fbt2)"
   ]
  },
  {
   "cell_type": "code",
   "execution_count": 120,
   "metadata": {},
   "outputs": [
    {
     "name": "stdout",
     "output_type": "stream",
     "text": [
      "         2\n",
      "0.05155 x - 48.18 x - 8.777e+04\n"
     ]
    }
   ],
   "source": [
    "print(fbt2-100000)"
   ]
  },
  {
   "cell_type": "code",
   "execution_count": 121,
   "metadata": {
    "collapsed": true
   },
   "outputs": [],
   "source": [
    "reached_max=fsolve(fbt2-100000,x0=800)/(7*24)"
   ]
  },
  {
   "cell_type": "code",
   "execution_count": 123,
   "metadata": {},
   "outputs": [
    {
     "name": "stdout",
     "output_type": "stream",
     "text": [
      "100,1000 hits/hour expected at week 11.031938 \n"
     ]
    }
   ],
   "source": [
    "print(\"100,1000 hits/hour expected at week %f \" %reached_max[0])"
   ]
  },
  {
   "cell_type": "code",
   "execution_count": null,
   "metadata": {
    "collapsed": true
   },
   "outputs": [],
   "source": []
  }
 ],
 "metadata": {
  "kernelspec": {
   "display_name": "Python 2",
   "language": "python",
   "name": "python2"
  },
  "language_info": {
   "codemirror_mode": {
    "name": "ipython",
    "version": 2
   },
   "file_extension": ".py",
   "mimetype": "text/x-python",
   "name": "python",
   "nbconvert_exporter": "python",
   "pygments_lexer": "ipython2",
   "version": "2.7.13"
  }
 },
 "nbformat": 4,
 "nbformat_minor": 2
}
